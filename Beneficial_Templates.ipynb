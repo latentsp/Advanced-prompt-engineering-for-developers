{
 "cells": [
  {
   "cell_type": "markdown",
   "metadata": {},
   "source": [
    "Go over @ sign usage"
   ]
  },
  {
   "cell_type": "markdown",
   "metadata": {},
   "source": [
    "Write a small calculator app using agent"
   ]
  },
  {
   "cell_type": "markdown",
   "metadata": {},
   "source": [
    "write a hangman app @todo.md"
   ]
  },
  {
   "cell_type": "markdown",
   "metadata": {},
   "source": [
    "write a hangman app @stepwise COT.md"
   ]
  },
  {
   "cell_type": "markdown",
   "metadata": {},
   "source": [
    "write a realtime trading platform @Q&A.md"
   ]
  },
  {
   "cell_type": "markdown",
   "metadata": {},
   "source": [
    "write a realtime trading platfomr @pros and cons.md"
   ]
  }
 ],
 "metadata": {
  "language_info": {
   "name": "python"
  }
 },
 "nbformat": 4,
 "nbformat_minor": 2
}
