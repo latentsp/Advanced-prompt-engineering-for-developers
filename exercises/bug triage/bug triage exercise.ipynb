{
 "cells": [
  {
   "cell_type": "markdown",
   "id": "6aadf2d5",
   "metadata": {},
   "source": [
    "# 🏋️ RESPCT Practice Exercise: AI-Powered Bug Triage prompt\n",
    "Scenario:\n",
    "You are building a prompt that helps triage bug reports in a software engineering team. This assistant should read bug descriptions and classify them, extract key information, and suggest initial remediation steps."
   ]
  },
  {
   "cell_type": "markdown",
   "id": "8c6d93f7",
   "metadata": {},
   "source": [
    "<span style=\"color:orange\">\n",
    "\n",
    "RESPCT framework:\n",
    "- (R) Role: Better Semantic Relationships\n",
    "- (E) Example: Additional context\n",
    "- (S) Structure: Control input/output to structure\n",
    "- (P) Pipeline: Break the mega prompt\n",
    "- (C) Constraints: Limit the model\n",
    "- (T) Task: Instructing the model what you want it to do\n",
    "\n",
    "</span>"
   ]
  },
  {
   "cell_type": "code",
   "execution_count": null,
   "id": "64f97037",
   "metadata": {},
   "outputs": [
    {
     "data": {
      "text/html": [
       "<pre style=\"white-space:pre;overflow-x:auto;line-height:normal;font-family:Menlo,'DejaVu Sans Mono',consolas,'Courier New',monospace\">sk-proj-Cg\n",
       "</pre>\n"
      ],
      "text/plain": [
       "sk-proj-Cg\n"
      ]
     },
     "metadata": {},
     "output_type": "display_data"
    }
   ],
   "source": [
    "from openai import OpenAI\n",
    "from rich import print\n",
    "import dotenv\n",
    "import os\n",
    "\n",
    "dotenv.load_dotenv()\n",
    "print(os.environ.get(\"OPENAI_API_KEY\")[:10])\n",
    "\n",
    "client = OpenAI()\n",
    "def invoke(prompt):\n",
    "    response = client.chat.completions.create(\n",
    "        model=\"gpt-3.5-turbo\",\n",
    "        messages=[{\"role\": \"user\", \"content\": prompt}]\n",
    "    )\n",
    "    return response.choices[0].message.content"
   ]
  },
  {
   "cell_type": "markdown",
   "id": "25fb2dc4",
   "metadata": {},
   "source": [
    "## 🧩 Your Task\n",
    "\n",
    "You’ll iteratively design prompts to power this assistant using the **RESPCT** framework.\n",
    "\n",
    "---\n",
    "\n",
    "### ✅ Step-by-Step Instructions (One for Each RESPCT Letter)\n",
    "\n",
    "#### **(R) Role**\n",
    "Craft a prompt that sets the model’s role to give it the right expertise and tone.\n",
    "\n",
    "> _e.g., “You are a senior software engineer on a platform team…”_\n",
    "\n",
    "---\n",
    "\n",
    "#### **(E) Example**\n",
    "Provide a few example bug reports and show how they should be classified or triaged.\n",
    "\n",
    "> _e.g., Classify: Critical, Functional, Cosmetic._\n",
    "\n",
    "---\n",
    "\n",
    "#### **(S) Structure**\n",
    "Ask the model to output its results in a specific format.\n",
    "\n",
    "> _e.g., “Respond using the following format: Severity: ..., Module: ..., Suggested Fix: ...”_\n",
    "\n",
    "---\n",
    "\n",
    "#### **(P) Pipeline**\n",
    "Break the prompt into logical subtasks:\n",
    "- Extract affected module\n",
    "- Classify severity\n",
    "- Suggest possible cause\n",
    "- Recommend first fix\n",
    "\n",
    "> _Bonus: Chain them together with inputs/outputs or use LangChain._\n",
    "\n",
    "---\n",
    "\n",
    "#### **(C) Constraints**\n",
    "Add rules:\n",
    "- Output must be JSON\n",
    "- Severity must be one of: Critical, Major, Minor\n",
    "- Don’t suggest deleting production code\n",
    "\n",
    "---\n",
    "\n",
    "#### **(T) Task**\n",
    "Frame the task clearly in a single line.\n",
    "\n",
    "> _e.g., “Given a user-submitted bug report, triage it by extracting relevant information and recommending a fix.”_\n"
   ]
  }
 ],
 "metadata": {
  "language_info": {
   "name": "python"
  }
 },
 "nbformat": 4,
 "nbformat_minor": 5
}
